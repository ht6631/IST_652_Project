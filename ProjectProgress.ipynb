{
 "cells": [
  {
   "cell_type": "markdown",
   "metadata": {},
   "source": [
    "# IST652 Project Deliverable 2 \n",
    "\n",
    "## Phase 2: Project Progress\n",
    "\n",
    "In this step you should have a road map of the steps you will be taking to complete your analysis. In addition, at this stage you should also complete the following \n",
    "- fine tune your research questions. \n",
    "- upload your dataset into jupyterhub and conduct some preliminary cleaning and transformation.\n",
    "- provide coding activities conducted so far.\n",
    "- have a better sense of team members responsibilities. \n",
    "- set a schedule to meet \n",
    "\n"
   ]
  },
  {
   "cell_type": "markdown",
   "metadata": {},
   "source": [
    "### Step 1: What is Your Idea and Research Questions, Again?\n",
    "\n",
    "Please reiterate your project idea below (you can copy it from the project proposal if there were no changes).\n",
    "\n",
    "`--== Double-click and put the title team members and brief description of your project below  ==--`\n",
    "About the research questions on Code violations dataset  \n",
    "This dataset records every housing code violation in Syracuse, as well as where it occurred, when it occurred, what the violation was, as well as the name and location of who is responsible for the violation.\n",
    "\n",
    "Potential questions could be:  \n",
    "1. Is there any correlation between neighborhood/location and type of violation?  \n",
    "2. Are the building owners generally local? Are any of them repeat offenders? \n",
    "3. How did COVID impact the number of housing violations (if at all)?  \n",
    "4. Have the kinds of violations given out changed over time?  \n",
    "5. Suppose we connect our location data to demographic data, will we see a relationhship between demographic and the types/amount of violations?  \n"
   ]
  },
  {
   "cell_type": "markdown",
   "metadata": {},
   "source": [
    "### Step 2: Problem Analysis - Roadmap\n",
    "\n",
    "What are the preliminary major steps you will be completing? Include the research question and steps taken to answer that question? Are there any unique functions you will be incorporating which we have not covered in the classroom? Describe below.\n",
    "\n",
    "`--== Double-click and describe steps towards analysis of your project below  ==--`\n",
    "Step 1. Done: We have read the dataset and did data cleaning and transformation on several columns\n",
    "Step 2. Now: We are working on some descriptive analysis regarding several attributes in the data table\n",
    "Step 3. Next: We will solve the potential questions listed in idea and research questions section."
   ]
  },
  {
   "cell_type": "markdown",
   "metadata": {},
   "source": [
    "### Step 3: Preliminary Code\n",
    "\n",
    "Include coding that has been completed at this preliminary stage.  "
   ]
  },
  {
   "cell_type": "code",
   "execution_count": null,
   "metadata": {},
   "outputs": [],
   "source": [
    "# Step 3: Write code here. Add additional cells as necessary.\n",
    "# There are too much code to copy, plz refer to this link: https://github.com/ht6631/IST_652_Project/blob/main/ProjectAnalysis.ipynb"
   ]
  },
  {
   "cell_type": "markdown",
   "metadata": {},
   "source": [
    "### Step 4: Meeting Schedule \n",
    "\n",
    "We are all busy. You and your team should be working towards this project on a weekly basis. Share your proposed schedule below.\n",
    "\n",
    "`--== Double-click and describe your project schedule below  ==--`"
   ]
  },
  {
   "cell_type": "code",
   "execution_count": null,
   "metadata": {},
   "outputs": [],
   "source": [
    "# We plan to meet or just conclude what we have done and what's for next on a regular weekly bases"
   ]
  }
 ],
 "metadata": {
  "kernelspec": {
   "display_name": "Python 3 (ipykernel)",
   "language": "python",
   "name": "python3"
  },
  "language_info": {
   "codemirror_mode": {
    "name": "ipython",
    "version": 3
   },
   "file_extension": ".py",
   "mimetype": "text/x-python",
   "name": "python",
   "nbconvert_exporter": "python",
   "pygments_lexer": "ipython3",
   "version": "3.9.7"
  },
  "varInspector": {
   "cols": {
    "lenName": 16,
    "lenType": 16,
    "lenVar": 40
   },
   "kernels_config": {
    "python": {
     "delete_cmd_postfix": "",
     "delete_cmd_prefix": "del ",
     "library": "var_list.py",
     "varRefreshCmd": "print(var_dic_list())"
    },
    "r": {
     "delete_cmd_postfix": ") ",
     "delete_cmd_prefix": "rm(",
     "library": "var_list.r",
     "varRefreshCmd": "cat(var_dic_list()) "
    }
   },
   "types_to_exclude": [
    "module",
    "function",
    "builtin_function_or_method",
    "instance",
    "_Feature"
   ],
   "window_display": false
  }
 },
 "nbformat": 4,
 "nbformat_minor": 4
}
