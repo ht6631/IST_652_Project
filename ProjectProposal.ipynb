{
 "cells": [
  {
   "cell_type": "markdown",
   "metadata": {},
   "source": [
    "# IST 652 PROJECT PROPOSAL \n",
    "\n",
    "\n",
    "The final project for IST652 involves locating an open data set or a group of data sets of interest, formulating an inquiry or set of inquiries that could be addressed with the data,processing the data set(s) in a Jupyter Notebook environment using Python, and conducting some analyses on the data to illuminate the inquiry. The project focuses on open data in order to ensure that your chain of transformations and analysis is\n",
    "reproducible. \n",
    "\n",
    "This is the FIRST DELIVERABLE \n",
    "\n",
    "\n",
    "## Project Objective\n",
    "\n",
    "Primary objectives for the project are ..\n",
    "\n",
    "- Demonstrate your ability to write Python scripts to access and process data.\n",
    "- Describe steps taken to prepare the data for analysis. For example how did you access and ingest the data, data wrangling, formatting, feature engineering and other steps. \n",
    "- Develop a research questions you are hoping to answer from the data collected.\n",
    "- Clearly articulate findings from analysis and summarizes impactful findings.\n",
    "- Collaborate as a team.\n",
    "\n",
    "\n"
   ]
  },
  {
   "cell_type": "markdown",
   "metadata": {},
   "source": [
    "## Analysis Team \n",
    "\n",
    "List team members below and their roles (note roles may be modified in the second deliverable)\n",
    "\n",
    "`--== Double-Click and Write Your Project Summary Below This Line  ==--`\n",
    "\n",
    "Andrea Hayman and Hang Tian collaborate on this work. We will seperate the work while sharing ideas upon every upcoming questions."
   ]
  },
  {
   "cell_type": "markdown",
   "metadata": {},
   "source": [
    "## Phase 1: Ideation\n",
    "\n",
    "The goal of this phase is to outline the specific goals and objectives of your project; include evidence of its feasibility by including citations of resources you will use to complete the code.\n"
   ]
  },
  {
   "cell_type": "markdown",
   "metadata": {},
   "source": [
    "### Step 1: Project Summary \n",
    "\n",
    "Write a brief summary of your project ideas, In 250 - 500 words.\n",
    "\n",
    "`--== Double-Click and Write Below this Line  ==--`  \n",
    "This project will be a data-oriented analysis of certain topics. There are multiple datasets on the list now and we will choose one for further analysis. According to certain background of datasets, we will ask questions and answer them as listed as in next step."
   ]
  },
  {
   "cell_type": "markdown",
   "metadata": {},
   "source": [
    "### Step 2: Datasets Research\n",
    "\n",
    "Select a dataset or a combination of datasets for your project. Many data sets are available at sites such as the World Bank ( http://data.worldbank.org ), the U.S. Federal Government ( http://www.data.gov ), - other potential sites for data sets will\n",
    "be provided by the instructor but it is recommended that you search for open data sets too on your own. However, do not use datasets from Kaggle.com. \n",
    "\n",
    "Note: The number of records (rows) present in your dataset (or total combination of datasets) must exceed 4,000 with at least 8 different categories (columns) of data.\n",
    "\n",
    "\n",
    "Clearly describe from where your data was located.Why is this resource an authority. Provide a shortlist of datasets your team is considering for your final project. Provide references to the dataset as applicable.  Include any other components necessary.\n",
    "\n",
    "\n",
    "`--== Double-Click and Write Below this Line  ==--`\n"
   ]
  },
  {
   "cell_type": "markdown",
   "metadata": {},
   "source": [
    "Dataset shortlist:\n",
    "1. Bike-sharing dataset from UCI machine learning repository  \n",
    "URL: https://archive.ics.uci.edu/dataset/275/bike+sharing+dataset  \n",
    "Introduction: This dataset contains the hourly and daily count of rental bikes between years 2011 and 2012 in Capital bikeshare system with the corresponding weather and seasonal information.\n",
    "Location: This dataset is from the UCI machine learning repository, open to all. \n"
   ]
  },
  {
   "cell_type": "code",
   "execution_count": 1,
   "metadata": {},
   "outputs": [
    {
     "name": "stdout",
     "output_type": "stream",
     "text": [
      "(17379, 17)\n",
      "Index(['instant', 'dteday', 'season', 'yr', 'mnth', 'hr', 'holiday', 'weekday',\n",
      "       'workingday', 'weathersit', 'temp', 'atemp', 'hum', 'windspeed',\n",
      "       'casual', 'registered', 'cnt'],\n",
      "      dtype='object')\n"
     ]
    },
    {
     "data": {
      "text/plain": [
       "array([0, 1])"
      ]
     },
     "execution_count": 1,
     "metadata": {},
     "output_type": "execute_result"
    }
   ],
   "source": [
    "# 1. Code introduction for Bike-sharing dataset\n",
    "import pandas as pd\n",
    "import numpy as np\n",
    "bike_share=pd.read_csv('Datasets/hour.csv')\n",
    "print(bike_share.shape)\n",
    "print(bike_share.columns)\n",
    "# There are 17379 hourly instances in the dataset with 17 columns (arrtributes) listing the hourly usage counts of bike-sharing program\n",
    "# See the web url for detailed information on column names and meanings.\n",
    "bike_share['yr'].unique()\n",
    "# There are two years' records in the dataset"
   ]
  },
  {
   "cell_type": "markdown",
   "metadata": {},
   "source": [
    "2. Housing code violations in Syracuse:\n",
    "URL: https://data.syr.gov/datasets/2cc4e180fc6540fbb4fc6fafde311d7b_0/explore?location=43.034377%2C-76.139450%2C13.53 \n",
    "Introduction: This dataset contains all housing code violations reported to Code Enforcement in Syracuse with information on where, when, and what violation occurred, as well as who violated the code."
   ]
  },
  {
   "cell_type": "code",
   "execution_count": null,
   "metadata": {},
   "outputs": [],
   "source": [
    "# code_violations=pd.read_csv('Datasets/hour.csv')\n",
    "# print(code_violations.shape)\n",
    "# print(code_violations.columns)\n",
    "# There are 17379 hourly instances in the dataset with 17 columns (arrtributes) listing the hourly usage counts of bike-sharing program\n",
    "# See the web url for detailed information on column names and meanings."
   ]
  },
  {
   "cell_type": "markdown",
   "metadata": {},
   "source": [
    "### Step 2a: Objectives \n",
    "\n",
    "What have you learned about your dataset(s) so far, and what are the questions you plan to answer with the data (a minimum of 5 questions is a good start).\n",
    "\n",
    "`--== Double-click and write below this line  ==--`\n",
    "\n",
    "About the Bike-sharing dataset  \n",
    "This dataset records the hourly bike usage counts for two years, supplemented by weather information such as weather type of that hour, temperature and feeling temperature, relative humidity etc. Besides, there are dummy columns as indicators suggesting if that date is a holiday or on weekdays or is it a working day.  \n",
    "Potential questions could be:  \n",
    "1. What's the correlation between weather-related variables and hourly bike usage counts?  \n",
    "2. Is there any difference between bike usage during holiday or non-holidays?  \n",
    "3. If the answer to question 2 is \"Yes\", then what's the difference?  \n",
    "4. What's the hourly distribution of bike usage, is there any tedency?  \n",
    "5. Suggest we can get access to date-related and weather-related data, could we predict houlry bike usage for any given hour?  \n",
    "  \n",
    "  \n"
   ]
  },
  {
   "cell_type": "markdown",
   "metadata": {},
   "source": [
    "About the Code violations dataset  \n",
    "This dataset records every housing code violation in Syracuse, as well as where it occurred, when it occurred, what the violation was, as well as the name and location of who is responsible for the violation.\n",
    "\n",
    "Potential questions could be:  \n",
    "1. Is there any correlation between neighborhood/location and type of violation?  \n",
    "2. Are the building owners generally local? Are any of them repeat offenders? \n",
    "3. How did COVID impact the number of housing violations (if at all)?  \n",
    "4. Have the kinds of violations given out changed over time?  \n",
    "5. Suppose we connect our location data to demographic data, will we see a relationhship between demographic and the types/amount of violations?   "
   ]
  },
  {
   "cell_type": "markdown",
   "metadata": {},
   "source": [
    "### References\n",
    "\n",
    "\n",
    "`--== Double-click and write below this line  ==--`\n",
    "\n"
   ]
  }
 ],
 "metadata": {
  "kernelspec": {
   "display_name": "Python 3 (ipykernel)",
   "language": "python",
   "name": "python3"
  },
  "language_info": {
   "codemirror_mode": {
    "name": "ipython",
    "version": 3
   },
   "file_extension": ".py",
   "mimetype": "text/x-python",
   "name": "python",
   "nbconvert_exporter": "python",
   "pygments_lexer": "ipython3",
   "version": "3.8.3"
  },
  "varInspector": {
   "cols": {
    "lenName": 16,
    "lenType": 16,
    "lenVar": 40
   },
   "kernels_config": {
    "python": {
     "delete_cmd_postfix": "",
     "delete_cmd_prefix": "del ",
     "library": "var_list.py",
     "varRefreshCmd": "print(var_dic_list())"
    },
    "r": {
     "delete_cmd_postfix": ") ",
     "delete_cmd_prefix": "rm(",
     "library": "var_list.r",
     "varRefreshCmd": "cat(var_dic_list()) "
    }
   },
   "types_to_exclude": [
    "module",
    "function",
    "builtin_function_or_method",
    "instance",
    "_Feature"
   ],
   "window_display": false
  }
 },
 "nbformat": 4,
 "nbformat_minor": 4
}
